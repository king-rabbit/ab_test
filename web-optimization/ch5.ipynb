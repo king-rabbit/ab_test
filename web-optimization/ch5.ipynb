{
 "cells": [
  {
   "cell_type": "code",
   "execution_count": 1,
   "metadata": {},
   "outputs": [
    {
     "name": "stderr",
     "output_type": "stream",
     "text": [
      "C:\\Users\\user\\anaconda3\\lib\\site-packages\\numpy\\_distributor_init.py:30: UserWarning: loaded more than 1 DLL from .libs:\n",
      "C:\\Users\\user\\anaconda3\\lib\\site-packages\\numpy\\.libs\\libopenblas.PYQHXLVVQ7VESDPUVUADXEVJOBGHJPAY.gfortran-win_amd64.dll\n",
      "C:\\Users\\user\\anaconda3\\lib\\site-packages\\numpy\\.libs\\libopenblas.XWYDX2IKJW2NMTWSFYNGFUWKQU3LYTCZ.gfortran-win_amd64.dll\n",
      "  warnings.warn(\"loaded more than 1 DLL from .libs:\"\n",
      "WARNING (theano.configdefaults): g++ not available, if using conda: `conda install m2w64-toolchain`\n",
      "WARNING (theano.configdefaults): g++ not detected ! Theano will be unable to execute optimized C-implementations (for both CPU and GPU) and will default to Python implementations. Performance will be severely degraded. To remove this warning, set Theano flags cxx to an empty string.\n",
      "WARNING (theano.tensor.blas): Using NumPy C-API based implementation for BLAS functions.\n"
     ]
    },
    {
     "data": {
      "text/plain": [
       "False"
      ]
     },
     "execution_count": 1,
     "metadata": {},
     "output_type": "execute_result"
    }
   ],
   "source": [
    "import pymc3 as pm\n",
    "import numpy as np\n",
    "from matplotlib import pyplot as plt\n",
    "from mpl_toolkits.mplot3d import Axes3D\n",
    "from arviz.utils import Numba\n",
    "Numba.disable_numba()\n",
    "Numba.numba_flag"
   ]
  },
  {
   "cell_type": "code",
   "execution_count": null,
   "metadata": {},
   "outputs": [],
   "source": [
    "# AB테스트를 하는 과정에서 손실이 일어날 수 있는데 손실을 최적화하는 방법은?\n",
    "\n",
    "# 활용exploitation : 자신이 알고 있는 최적의 행동을 함으로써 이익을 높이는 것\n",
    "# 탐색exploration : 지식을 늘리기 위해 새로운 행동을 시도\n",
    "\n",
    "# ==>탐색과 활용의 틸레마 exploration-exploitation dilemma\n",
    "\n",
    "# 다중 슬롯머신 문제 multi-armed bandit problem : 탐색과 활용의 딜레마를 안고 있는 문제를 다루는 전형적인 방법\n",
    "# 여러개의 슬롯머신이 있을 때 어느 슬롯머신에 배팅할 것인가? \n",
    "# 여기서는 확률적 슬롯머신 문제를 다룸. 솔루션을 선택했을 때의 보상이 어떤 확률 분포에 따라 주어진다고 가정하며, 누적 보상을 최대화 하고자 함.\n",
    "# 에이전트agent : 최적의 솔루션을 찾아내는 주체. 총 T 횟수만큼 다양한 솔루션을 시도.\n",
    "# 환경environment : 에이전트와 대치하는 대상 전체\n",
    "# T: 예산. 횟수 상한선. 1 <= t <= T 는 '시각'이라고 부름\n",
    "# x(t) : t번째 횟수에 선택한 솔루션\n",
    "# r(t) : t번째 횟수에 얻은 보상 (웹사이트 최적화의 경우 클릭 유무)\n",
    "# R(t) : 누적 보상. 이를 최대화하는 전략, 즉 방책을 구하는 것이 확률적 슬롯머신 문제\n",
    "\n",
    "# 슬롯머신 알고리즘의 성능은 많은 횟수를 시뮬레이션한 결과를 바탕으로 누적 보상 기댓값을 계산에 평가함. 누적 보상 기닷값이 이상적인 방책에 얼마나 가까운지를 평가.\n",
    "# 이상적인 방책이란 항상 기댓값이 최고인 솔루션을 계속 선택하는 가상의 방책\n",
    "# 후회regret : 이상적인 방책과 누적 보상의 차이. \n",
    "\n",
    "\n",
    "# epsilon-greedy 알고리즘: 슬롯머신 알고리즘 중 가장 간단한 알고리즘.\n",
    "# 어떤 작은 확률 e으로 탐색, 1 - e 로 활용 행동을 취하는 것. \n",
    "# 탐색 행동을 선택한 경우에는 솔루션을 무작위로 선택\n",
    "# 활용 행동ㅇ르 선택한 경우에는 그 시점에서 얻어진 보상의 표본 평균이 최대인 솔루션 x*(t)를 선택\n"
   ]
  },
  {
   "cell_type": "code",
   "execution_count": 2,
   "metadata": {},
   "outputs": [],
   "source": [
    "# epsilon-greedy 알고리즘 구현하기:\n",
    "# 보상 r : 성공확률에 따라 0 또는 1의 값\n",
    "# 각 솔루션의 성공 확률: theta1 = 0.1, theta2 = 0.2, theta3 = 0.3, theta4 = 0.3\n",
    "# 분제의 최적의 솔루션 : x* = x4\n",
    "\n",
    "import numpy as np\n",
    "np.random.seed(0)\n",
    "n_arms = 4  #솔루션 수 K = 4\n",
    "\n",
    "class Env(object):\n",
    "    thetas = [0.1, 0.1, 0.2, 0.3]\n",
    "    \n",
    "    def react(arm):\n",
    "        return 1 if np.random.random() < Env.thetas[arm] else 0\n",
    "    \n",
    "    def opt():  #전지전능한 에이전트 외에는 이 메서드 호출할 수 없음\n",
    "        return np.argmax(Env.thetas)"
   ]
  },
  {
   "cell_type": "code",
   "execution_count": 3,
   "metadata": {},
   "outputs": [],
   "source": [
    "class EpsilonGreedyAgent(object):\n",
    "    \n",
    "    def __init__(self, epsilon=0.1):\n",
    "        self.epsilon = epsilon\n",
    "        self.counts = np.zeros(n_arms)  # 각 솔루션을 선택한 횟수 N(t)\n",
    "        self.values = np.zeros(n_arms)  # 각 솔루션으로부터 얻은 보상의 표본 평균 theta{t}\n",
    "        \n",
    "    def get_arm(self):\n",
    "        # 알고리즘에 기반해 적절한 솔루션 선택.\n",
    "        if np.random.random() < self.epsilon:  # 균일 분포로 생성한 난수가 self.epsilon보다 작으면 탐색 행동 => 무작위 솔루션 선택\n",
    "            arm = np.random.randint(n_arms)\n",
    "        else:  # 균일 분포로 생성한 난수가 self.epsilon보다 크면 활용 행동 => 보상의 표본 평균이 가장 큰 솔루션 선택\n",
    "            arm = np.argmax(self.values)\n",
    "        return arm\n",
    "    \n",
    "    def sample(self, arm, reward):\n",
    "        # 각 솔루션을 선택한 횟수 self.counts와 각 솔루션의 표본 평균 self.values를 업데이트\n",
    "        self.counts[arm] += 1\n",
    "        self.values[arm] = (\n",
    "            (self.counts[arm] - 1) * self.values[arm] + reward\n",
    "            ) / self.counts[arm]\n",
    "        "
   ]
  },
  {
   "cell_type": "code",
   "execution_count": 4,
   "metadata": {},
   "outputs": [],
   "source": [
    "def sim(Agent, N=1000, T=1000, **kwargs):  # 평가할 에이전트의 클래스 Agent, 시뮬레이션을 시행할 횟수 N, 예산 T\n",
    "    selected_arms = [[0 for _ in range(T)] for _ in range(N)]\n",
    "    earned_rewards = [[0 for _ in range(T)] for _ in range(N)]\n",
    "    \n",
    "    for n in range(N):\n",
    "        agent = Agent(**kwargs)\n",
    "        for t in range(T):\n",
    "            arm = agent.get_arm()\n",
    "            reward = Env.react(arm)\n",
    "            agent.sample(arm, reward)\n",
    "            selected_arms[n][t] = arm  #에이전트가 선택한 솔루션의 이력\n",
    "            earned_rewards[n][t] = reward  #얻어진 보상의 이력\n",
    "            \n",
    "    return np.array(selected_arms), np.array(earned_rewards)"
   ]
  },
  {
   "cell_type": "code",
   "execution_count": 5,
   "metadata": {},
   "outputs": [
    {
     "data": {
      "image/png": "[encoded data removed]",
      "text/plain": [
       "<Figure size 432x288 with 1 Axes>"
      ]
     },
     "metadata": {
      "needs_background": "light"
     },
     "output_type": "display_data"
    }
   ],
   "source": [
    "arms_eg, rewards_eg = sim(EpsilonGreedyAgent)\n",
    "acc = np.mean(arms_eg == Env.opt(), axis=0)  # 시뮬레이션 중에 선택된 솔루션이 최적 솔루션과 일치하는 비율\n",
    "\n",
    "plt.plot(acc)\n",
    "plt.xlabel(r'$t$')\n",
    "plt.ylabel(r'$\\mathbb{E}[x(t) = x^*]$')\n",
    "plt.show()"
   ]
  },
  {
   "cell_type": "code",
   "execution_count": 6,
   "metadata": {},
   "outputs": [],
   "source": [
    "#전지전능한 에이전트 구현\n",
    "class OracleAgent(object):\n",
    "    def __init__(self):\n",
    "        self.arm = Env.opt()\n",
    "        \n",
    "    def get_arm(self):\n",
    "        return self.arm\n",
    "    \n",
    "    def sample(self, arm, reward):\n",
    "        pass"
   ]
  },
  {
   "cell_type": "code",
   "execution_count": 7,
   "metadata": {},
   "outputs": [
    {
     "data": {
      "image/png": "[encoded data removed]",
      "text/plain": [
       "<Figure size 432x288 with 1 Axes>"
      ]
     },
     "metadata": {
      "needs_background": "light"
     },
     "output_type": "display_data"
    }
   ],
   "source": [
    "# 전지전능한 에이전트와 epsilon-greedy 알고리즘으로 구현한 에이전트 간의 차이\n",
    "# 이 누적 보상의 차이가 후회에 해당.\n",
    "\n",
    "arms_o, rewards_o = sim(OracleAgent)\n",
    "plt.plot(np.mean(np.cumsum(rewards_eg, axis=1), axis=0),\n",
    "        label=r'$varepsilon$-greedy')\n",
    "plt.plot(np.mean(np.cumsum(rewards_o, axis=1), axis=0), label=r'Oracle')\n",
    "plt.xlabel(r'$t$')\n",
    "plt.ylabel('Cumulative reward')\n",
    "plt.legend()\n",
    "plt.show()"
   ]
  },
  {
   "cell_type": "code",
   "execution_count": 8,
   "metadata": {},
   "outputs": [],
   "source": [
    "# 탐색 초반에는 다양한 선택지를 시험해 정보를 얻지만 후반에는 활용 행동으로 이동하는 것이 좋음.\n",
    "# 이러한 알고리즘 기법의 하나가 시뮬레이티드 어닐링\n",
    "\n",
    "class AnnealingEpsilonGreedyAgent(object):\n",
    "    \n",
    "    \n",
    "    def __init__(self, epsilon=1.0):\n",
    "        self.epsilon = epsilon\n",
    "        self.counts = np.zeros(n_arms)\n",
    "        self.values = np.zeros(n_arms)\n",
    "    \n",
    "    def get_arm(self):\n",
    "        if np.random.random() < self.epsilon:\n",
    "            arm = np.random.randint(n_arms)\n",
    "        else:\n",
    "            arm = np.argmax(self.values)\n",
    "        self.epsilon *= 0.99    \n",
    "        # 큰 초깃값을 탐색확률 epsilon으로 설정 => get_arm이 호출될 때마다 0.99를 곱해서 점점 작게(냉각) 만듬.\n",
    "        # 이를 통해 처음에는 탐색 중심의 행동을 취하고 점점 활용 중심으로 이동\n",
    "        return arm\n",
    "    \n",
    "    def sample(self, arm, reward):\n",
    "        self.counts[arm] += 1\n",
    "        self.values[arm] = (\n",
    "            (self.counts[arm] - 1) * self.values[arm] + reward\n",
    "            ) / self.counts[arm]\n",
    "    "
   ]
  },
  {
   "cell_type": "code",
   "execution_count": 9,
   "metadata": {},
   "outputs": [
    {
     "data": {
      "image/png": "[encoded data removed]",
      "text/plain": [
       "<Figure size 432x288 with 1 Axes>"
      ]
     },
     "metadata": {
      "needs_background": "light"
     },
     "output_type": "display_data"
    }
   ],
   "source": [
    "arms_aeg, rewards_aeg = sim(AnnealingEpsilonGreedyAgent)\n",
    "plt.plot(np.mean(arms_aeg == Env.opt(), axis=0),\n",
    "        label=r'Annealing $\\varepsilon$-greedy')\n",
    "plt.plot(np.mean(arms_eg == Env.opt(), axis=0), label=r'$\\varepsilon-greedy')\n",
    "plt.xlabel(r'$t$')\n",
    "plt.ylabel(r'$\\mathbb{E}[x(t) = x^*]$')\n",
    "plt.legend()\n",
    "plt.show()"
   ]
  },
  {
   "cell_type": "code",
   "execution_count": null,
   "metadata": {},
   "outputs": [],
   "source": [
    "# 슬롯머신 알고리즘을 사용해 실험 기간 중 (1<=t<=T)의 누적 보상이 최대가 되게 할 것\n",
    "# 그 결과 기댓값이 가장 크다고 추정되는 안 x^*(T)를 실험 후 채택."
   ]
  },
  {
   "cell_type": "code",
   "execution_count": null,
   "metadata": {},
   "outputs": [],
   "source": []
  },
  {
   "cell_type": "code",
   "execution_count": null,
   "metadata": {},
   "outputs": [],
   "source": []
  },
  {
   "cell_type": "code",
   "execution_count": null,
   "metadata": {},
   "outputs": [],
   "source": []
  }
 ],
 "metadata": {
  "kernelspec": {
   "display_name": "Python 3",
   "language": "python",
   "name": "python3"
  },
  "language_info": {
   "codemirror_mode": {
    "name": "ipython",
    "version": 3
   },
   "file_extension": ".py",
   "mimetype": "text/x-python",
   "name": "python",
   "nbconvert_exporter": "python",
   "pygments_lexer": "ipython3",
   "version": "3.8.3"
  }
 },
 "nbformat": 4,
 "nbformat_minor": 4
}
