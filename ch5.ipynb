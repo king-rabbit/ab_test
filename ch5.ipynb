{
 "cells": [
  {
   "cell_type": "code",
   "execution_count": 1,
   "metadata": {},
   "outputs": [
    {
     "name": "stderr",
     "output_type": "stream",
     "text": [
      "C:\\Users\\user\\anaconda3\\lib\\site-packages\\numpy\\_distributor_init.py:30: UserWarning: loaded more than 1 DLL from .libs:\n",
      "C:\\Users\\user\\anaconda3\\lib\\site-packages\\numpy\\.libs\\libopenblas.PYQHXLVVQ7VESDPUVUADXEVJOBGHJPAY.gfortran-win_amd64.dll\n",
      "C:\\Users\\user\\anaconda3\\lib\\site-packages\\numpy\\.libs\\libopenblas.XWYDX2IKJW2NMTWSFYNGFUWKQU3LYTCZ.gfortran-win_amd64.dll\n",
      "  warnings.warn(\"loaded more than 1 DLL from .libs:\"\n",
      "WARNING (theano.configdefaults): g++ not available, if using conda: `conda install m2w64-toolchain`\n",
      "WARNING (theano.configdefaults): g++ not detected ! Theano will be unable to execute optimized C-implementations (for both CPU and GPU) and will default to Python implementations. Performance will be severely degraded. To remove this warning, set Theano flags cxx to an empty string.\n",
      "WARNING (theano.tensor.blas): Using NumPy C-API based implementation for BLAS functions.\n"
     ]
    },
    {
     "data": {
      "text/plain": [
       "False"
      ]
     },
     "execution_count": 1,
     "metadata": {},
     "output_type": "execute_result"
    }
   ],
   "source": [
    "import pymc3 as pm\n",
    "import numpy as np\n",
    "from matplotlib import pyplot as plt\n",
    "from mpl_toolkits.mplot3d import Axes3D\n",
    "from arviz.utils import Numba\n",
    "Numba.disable_numba()\n",
    "Numba.numba_flag"
   ]
  },
  {
   "cell_type": "code",
   "execution_count": null,
   "metadata": {},
   "outputs": [],
   "source": [
    "# AB테스트를 하는 과정에서 손실이 일어날 수 있는데 손실을 최적화하는 방법은?\n",
    "\n",
    "# 활용exploitation : 자신이 알고 있는 최적의 행동을 함으로써 이익을 높이는 것\n",
    "# 탐색exploration : 지식을 늘리기 위해 새로운 행동을 시도\n",
    "\n",
    "# ==>탐색과 활용의 틸레마 exploration-exploitation dilemma\n",
    "\n",
    "# 다중 슬롯머신 문제 multi-armed bandit problem : 탐색과 활용의 딜레마를 안고 있는 문제를 다루는 전형적인 방법\n",
    "# 여러개의 슬롯머신이 있을 때 어느 슬롯머신에 배팅할 것인가? \n",
    "# 여기서는 확률적 슬롯머신 문제를 다룸. 솔루션을 선택했을 때의 보상이 어떤 확률 분포에 따라 주어진다고 가정하며, 누적 보상을 최대화 하고자 함.\n",
    "# 에이전트agent : 최적의 솔루션을 찾아내는 주체. 총 T 횟수만큼 다양한 솔루션을 시도.\n",
    "# 환경environment : 에이전트와 대치하는 대상 전체\n",
    "# T: 예산. 횟수 상한선. 1 <= t <= T 는 '시각'이라고 부름\n",
    "# x(t) : t번째 횟수에 선택한 솔루션\n",
    "# r(t) : t번째 횟수에 얻은 보상 (웹사이트 최적화의 경우 클릭 유무)\n",
    "# R(t) : 누적 보상. 이를 최대화하는 전략, 즉 방책을 구하는 것이 확률적 슬롯머신 문제\n",
    "\n",
    "# 슬롯머신 알고리즘의 성능은 많은 횟수를 시뮬레이션한 결과를 바탕으로 누적 보상 기댓값을 계산에 평가함. 누적 보상 기닷값이 이상적인 방책에 얼마나 가까운지를 평가.\n",
    "# 이상적인 방책이란 항상 기댓값이 최고인 솔루션을 계속 선택하는 가상의 방책\n",
    "# 후회regret : 이상적인 방책과 누적 보상의 차이. \n",
    "\n",
    "\n",
    "# epsilon-greedy 알고리즘: 슬롯머신 알고리즘 중 가장 간단한 알고리즘.\n",
    "# 어떤 작은 확률 e으로 탐색, 1 - e 로 활용 행동을 취하는 것. \n",
    "# 탐색 행동을 선택한 경우에는 솔루션을 무작위로 선택\n",
    "# 활용 행동ㅇ르 선택한 경우에는 그 시점에서 얻어진 보상의 표본 평균이 최대인 솔루션 x*(t)를 선택\n"
   ]
  },
  {
   "cell_type": "code",
   "execution_count": 2,
   "metadata": {},
   "outputs": [],
   "source": [
    "# epsilon-greedy 알고리즘 구현하기:\n",
    "# 보상 r : 성공확률에 따라 0 또는 1의 값\n",
    "# 각 솔루션의 성공 확률: theta1 = 0.1, theta2 = 0.2, theta3 = 0.3, theta4 = 0.3\n",
    "# 분제의 최적의 솔루션 : x* = x4\n",
    "\n",
    "import numpy as np\n",
    "np.random.seed(0)\n",
    "n_arms = 4  #솔루션 수 K = 4\n",
    "\n",
    "class Env(object):\n",
    "    thetas = [0.1, 0.1, 0.2, 0.3]\n",
    "    \n",
    "    def react(arm):\n",
    "        return 1 if np.random.random() < Env.thetas[arm] else 0\n",
    "    \n",
    "    def opt():  #전지전능한 에이전트 외에는 이 메서드 호출할 수 없음\n",
    "        return np.argmax(Env.thetas)"
   ]
  },
  {
   "cell_type": "code",
   "execution_count": null,
   "metadata": {},
   "outputs": [],
   "source": [
    "class EpsilonGreedyAgent(object):\n",
    "    \n",
    "    def __init__(self, epsilon=0.1):\n",
    "        self.epsilon = epsilon\n",
    "        self.counts = np.zeros(n_arms)\n",
    "        self.values = np.zeros(n_amrs)\n",
    "        \n",
    "    def get_arm(self):\n",
    "        if np.random.random() < self.epsilon:\n",
    "            arm = np.random.randint(n_arms)\n",
    "        else:\n",
    "            arm = np.argmax(self.values)\n",
    "        return arm\n",
    "    \n",
    "    def sample(self, arm, reward):\n",
    "        \n",
    "        "
   ]
  },
  {
   "cell_type": "code",
   "execution_count": null,
   "metadata": {},
   "outputs": [],
   "source": []
  },
  {
   "cell_type": "code",
   "execution_count": null,
   "metadata": {},
   "outputs": [],
   "source": []
  },
  {
   "cell_type": "code",
   "execution_count": null,
   "metadata": {},
   "outputs": [],
   "source": []
  },
  {
   "cell_type": "code",
   "execution_count": null,
   "metadata": {},
   "outputs": [],
   "source": []
  },
  {
   "cell_type": "code",
   "execution_count": null,
   "metadata": {},
   "outputs": [],
   "source": []
  },
  {
   "cell_type": "code",
   "execution_count": null,
   "metadata": {},
   "outputs": [],
   "source": []
  },
  {
   "cell_type": "code",
   "execution_count": null,
   "metadata": {},
   "outputs": [],
   "source": []
  },
  {
   "cell_type": "code",
   "execution_count": null,
   "metadata": {},
   "outputs": [],
   "source": []
  }
 ],
 "metadata": {
  "kernelspec": {
   "display_name": "Python 3",
   "language": "python",
   "name": "python3"
  },
  "language_info": {
   "codemirror_mode": {
    "name": "ipython",
    "version": 3
   },
   "file_extension": ".py",
   "mimetype": "text/x-python",
   "name": "python",
   "nbconvert_exporter": "python",
   "pygments_lexer": "ipython3",
   "version": "3.8.3"
  }
 },
 "nbformat": 4,
 "nbformat_minor": 4
}
