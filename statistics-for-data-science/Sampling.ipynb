{
 "cells": [
  {
   "cell_type": "code",
   "execution_count": null,
   "id": "7dfc1967",
   "metadata": {},
   "outputs": [],
   "source": [
    "# 표본분포: 하나의 동일한 모집단에서 얻은 여러 샘플에 대한 표본통계량의 분포\n",
    "# 표본통계량: 모집단에서 추출된 표본 데이터들로부터 얻은 측정 지표\n",
    "# 표준오차: 여로 표본들로부터 얻은 표본통계랴의 변량\n",
    "\n",
    "# 평균과 같은 표본통계량의 분포는 데이터 자체의 분포보다 규칙적이고 종 모양일 가능성이 높음.\n",
    "# 표본이 클수록 표본통계량의 분포가 좁아짐. = 중심극한정리"
   ]
  },
  {
   "cell_type": "code",
   "execution_count": 29,
   "id": "1f9b1bfa",
   "metadata": {},
   "outputs": [
    {
     "name": "stderr",
     "output_type": "stream",
     "text": [
      "C:\\Users\\user\\AppData\\Local\\Temp\\ipykernel_16364\\936599994.py:20: FutureWarning: The squeeze argument has been deprecated and will be removed in a future version. Append .squeeze(\"columns\") to the call to squeeze.\n",
      "\n",
      "\n",
      "  loans_income = pd.read_csv(LOANS_INCOME_CSV, squeeze=True)\n"
     ]
    }
   ],
   "source": [
    "%matplotlib inline\n",
    "\n",
    "from pathlib import Path\n",
    "import pandas as pd\n",
    "import numpy as np\n",
    "from scipy import stats\n",
    "from sklearn.utils import resample\n",
    "import seaborn as sns\n",
    "import matplotlib.pylab as plt\n",
    "\n",
    "try:\n",
    "    import common\n",
    "    DATA = common.dataDirectory()\n",
    "except ImportError:\n",
    "    DATA = Path().resolve() / 'data'\n",
    "    \n",
    "LOANS_INCOME_CSV = DATA / 'loans_income.csv'\n",
    "SP500_DATA_CSV = DATA / 'sp500_data.csv.gz'\n",
    "\n",
    "loans_income = pd.read_csv(LOANS_INCOME_CSV, squeeze=True)"
   ]
  },
  {
   "cell_type": "code",
   "execution_count": 30,
   "id": "7e96a9a5",
   "metadata": {},
   "outputs": [
    {
     "data": {
      "text/plain": [
       "0     67000\n",
       "1     52000\n",
       "2    100000\n",
       "3     78762\n",
       "4     37041\n",
       "Name: x, dtype: int64"
      ]
     },
     "execution_count": 30,
     "metadata": {},
     "output_type": "execute_result"
    }
   ],
   "source": [
    "loans_income.head(5)"
   ]
  },
  {
   "cell_type": "code",
   "execution_count": 31,
   "id": "5d21589c",
   "metadata": {},
   "outputs": [
    {
     "name": "stdout",
     "output_type": "stream",
     "text": [
      "         income  type\n",
      "8672    44500.0  Data\n",
      "44614   47000.0  Data\n",
      "15011  132540.0  Data\n",
      "6455   106000.0  Data\n",
      "40623   72000.0  Data\n"
     ]
    }
   ],
   "source": [
    "sample_data = pd.DataFrame({\n",
    "    'income': loans_income.sample(1000),\n",
    "    'type':'Data',\n",
    "})\n",
    "sample_mean_05 = pd.DataFrame({\n",
    "    'income': [loans_income.sample(5).mean() for _ in range(1000)],\n",
    "    'type': 'Mean of 5',\n",
    "})\n",
    "sample_mean_20 = pd.DataFrame({\n",
    "    'income': [loans_income.sample(20).mean() for _ in range(1000)],\n",
    "    'type': 'Mean of 20',\n",
    "})\n",
    "\n",
    "results = pd.concat([sample_data, sample_mean_05, sample_mean_20])\n",
    "print(results.head())"
   ]
  },
  {
   "cell_type": "code",
   "execution_count": 32,
   "id": "056c530d",
   "metadata": {},
   "outputs": [
    {
     "data": {
      "image/png": "[encoded data removed]",
      "text/plain": [
       "<Figure size 288x432 with 3 Axes>"
      ]
     },
     "metadata": {
      "needs_background": "light"
     },
     "output_type": "display_data"
    }
   ],
   "source": [
    "g = sns.FacetGrid(results, col='type', col_wrap=1, height=2, aspect=2)\n",
    "g.map(plt.hist, 'income', range=[0, 2000000], bins=40 )\n",
    "g.set_axis_labels('Income', 'Count')\n",
    "g.set_titles('{col_name}')\n",
    "\n",
    "plt.tight_layout()\n",
    "plt.show()"
   ]
  },
  {
   "cell_type": "code",
   "execution_count": 33,
   "id": "c9574d64",
   "metadata": {},
   "outputs": [
    {
     "name": "stdout",
     "output_type": "stream",
     "text": [
      "original: 62000.0\n",
      "bias: -83.6710000000021\n",
      "std. error: 228.6695509299883\n"
     ]
    }
   ],
   "source": [
    "# 부트스트랩: 현재 있는 표본에서 추가적으로 표본을 복원추출해서 각 표본에 대한 통계량과 모델을 다시 계산=>모수의 표본분포를 쉽게 추정하는 방법\n",
    "\n",
    "results = []\n",
    "\n",
    "for nrepeat in range(1000):\n",
    "    sample = resample(loans_income) #기존 샘플에서 다시 복원추출\n",
    "    results.append(sample.median()) #복원추출한 샘플의 통계량을 기록\n",
    "results = pd.Series(results)\n",
    "\n",
    "print(f'original: {loans_income.median()}')\n",
    "print(f'bias: {results.mean() - loans_income.median()}') #복원추출한 샘플들의 중간값의 평균값 -> 모평균 추정\n",
    "print(f'std. error: {results.std()}') #복원추출한 샘플들의 중간값의 표준편차 -> 모표준편차 추정"
   ]
  },
  {
   "cell_type": "code",
   "execution_count": null,
   "id": "a6ef67b8",
   "metadata": {},
   "outputs": [],
   "source": []
  }
 ],
 "metadata": {
  "kernelspec": {
   "display_name": "Python 3 (ipykernel)",
   "language": "python",
   "name": "python3"
  },
  "language_info": {
   "codemirror_mode": {
    "name": "ipython",
    "version": 3
   },
   "file_extension": ".py",
   "mimetype": "text/x-python",
   "name": "python",
   "nbconvert_exporter": "python",
   "pygments_lexer": "ipython3",
   "version": "3.10.0"
  }
 },
 "nbformat": 4,
 "nbformat_minor": 5
}
