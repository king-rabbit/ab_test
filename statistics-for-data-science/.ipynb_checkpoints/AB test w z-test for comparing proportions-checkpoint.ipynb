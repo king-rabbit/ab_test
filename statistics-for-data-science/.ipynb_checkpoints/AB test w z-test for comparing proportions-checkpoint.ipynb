{
 "cells": [
  {
   "cell_type": "code",
   "execution_count": 1,
   "id": "3295aa05",
   "metadata": {},
   "outputs": [],
   "source": [
    "import numpy as np\n",
    "from scipy.stats import norm"
   ]
  },
  {
   "cell_type": "code",
   "execution_count": 3,
   "id": "7d475e2c",
   "metadata": {},
   "outputs": [],
   "source": [
    "X_con = 1242 #clicks of control\n",
    "N_con = 9886 #impressions of control\n",
    "X_exp = 974 #clicks of experimental\n",
    "N_exp = 10072 #impressions of experimental"
   ]
  },
  {
   "cell_type": "code",
   "execution_count": 6,
   "id": "c0d50599",
   "metadata": {},
   "outputs": [],
   "source": [
    "alpha = 0.05 #significance level\n",
    "\n",
    "p_con_hat = X_con / N_con #ctr of control\n",
    "p_exp_hat = X_exp / N_exp #ctr of experimental\n",
    "\n",
    "p_pooled_hat = (X_con + X_exp) / (N_con + N_exp)\n",
    "pooled_variance = p_pooled_hat * (1-p_pooled_hat) * (1/N_con + 1/N_exp)"
   ]
  },
  {
   "cell_type": "code",
   "execution_count": 7,
   "id": "84753c74",
   "metadata": {},
   "outputs": [],
   "source": [
    "#standart error\n",
    "SE = np.sqrt(pooled_variance)"
   ]
  },
  {
   "cell_type": "code",
   "execution_count": 8,
   "id": "2368d453",
   "metadata": {},
   "outputs": [],
   "source": [
    "#test statistics\n",
    "Test_stat = (p_con_hat - p_exp_hat)/SE\n",
    "#critical value using the standart normal distribution\n",
    "z_crit = norm.ppf(1-alpha/2)"
   ]
  },
  {
   "cell_type": "code",
   "execution_count": 10,
   "id": "951db936",
   "metadata": {},
   "outputs": [],
   "source": [
    "#margin of error\n",
    "m = SE * z_crit\n",
    "#two sided test and using symmetry property of Normal distribution so we multiple with 2\n",
    "p_value = norm.sf(Test_stat)*2"
   ]
  },
  {
   "cell_type": "code",
   "execution_count": 13,
   "id": "dff4df4a",
   "metadata": {},
   "outputs": [],
   "source": [
    "# Confidence Interval\n",
    "CI = [(p_con_hat-p_exp_hat) - SE * z_crit, (p_con_hat-p_exp_hat) + SE * z_crit]"
   ]
  },
  {
   "cell_type": "code",
   "execution_count": 15,
   "id": "472e5c86",
   "metadata": {},
   "outputs": [
    {
     "name": "stdout",
     "output_type": "stream",
     "text": [
      "reject the null\n",
      "7.832495206930039e-11\n"
     ]
    }
   ],
   "source": [
    "if np.abs(Test_stat) >= z_crit:\n",
    "    print('reject the null')\n",
    "    print(p_value)"
   ]
  },
  {
   "cell_type": "code",
   "execution_count": 17,
   "id": "69ff30fc",
   "metadata": {},
   "outputs": [
    {
     "name": "stdout",
     "output_type": "stream",
     "text": [
      "Test Statistics stat:  6.503782823926798\n",
      "Z-critical:  1.959963984540054\n",
      "P_value:  7.832495206930039e-11\n",
      "Confidence Interval of 2 sample Z-test for proportions:  [0.02 0.04]\n"
     ]
    }
   ],
   "source": [
    "print(\"Test Statistics stat: \", Test_stat)\n",
    "print(\"Z-critical: \", z_crit)\n",
    "print(\"P_value: \", p_value)\n",
    "print(\"Confidence Interval of 2 sample Z-test for proportions: \", np.round(CI,2))"
   ]
  },
  {
   "cell_type": "code",
   "execution_count": 23,
   "id": "2310b67c",
   "metadata": {},
   "outputs": [
    {
     "data": {
      "text/plain": [
       "True"
      ]
     },
     "execution_count": 23,
     "metadata": {},
     "output_type": "execute_result"
    }
   ],
   "source": [
    "p_value < 0.05"
   ]
  },
  {
   "cell_type": "code",
   "execution_count": 19,
   "id": "b24bdec2",
   "metadata": {},
   "outputs": [
    {
     "data": {
      "image/png": "[encoded data removed]",
      "text/plain": [
       "<Figure size 432x288 with 1 Axes>"
      ]
     },
     "metadata": {
      "needs_background": "light"
     },
     "output_type": "display_data"
    }
   ],
   "source": [
    "import matplotlib.pyplot as plt\n",
    "z = np.arange(-3,3,  0.1)\n",
    "plt.plot(z, norm.pdf(z), label = 'Standard Normal Distribution',color = 'purple',linewidth = 2.5)\n",
    "plt.fill_between(z[z>z_crit], norm.pdf(z[z>z_crit]), label = 'Right Rejection Region',color ='y' )\n",
    "plt.fill_between(z[z<(-1)*z_crit], norm.pdf(z[z<(-1)*z_crit]), label = 'Left Rejection Region',color ='y' )\n",
    "plt.title(\"Two Sample Z-test rejection region\")\n",
    "plt.legend()\n",
    "plt.show()"
   ]
  },
  {
   "cell_type": "code",
   "execution_count": null,
   "id": "ced2a78e",
   "metadata": {},
   "outputs": [],
   "source": []
  },
  {
   "cell_type": "code",
   "execution_count": null,
   "id": "e4c98b8d",
   "metadata": {},
   "outputs": [],
   "source": []
  },
  {
   "cell_type": "code",
   "execution_count": null,
   "id": "c5990bd4",
   "metadata": {},
   "outputs": [],
   "source": []
  }
 ],
 "metadata": {
  "kernelspec": {
   "display_name": "Python 3 (ipykernel)",
   "language": "python",
   "name": "python3"
  },
  "language_info": {
   "codemirror_mode": {
    "name": "ipython",
    "version": 3
   },
   "file_extension": ".py",
   "mimetype": "text/x-python",
   "name": "python",
   "nbconvert_exporter": "python",
   "pygments_lexer": "ipython3",
   "version": "3.10.0"
  }
 },
 "nbformat": 4,
 "nbformat_minor": 5
}
