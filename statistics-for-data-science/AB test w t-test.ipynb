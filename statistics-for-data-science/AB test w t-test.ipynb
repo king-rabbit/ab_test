{
 "cells": [
  {
   "cell_type": "code",
   "execution_count": 1,
   "id": "38413514",
   "metadata": {},
   "outputs": [],
   "source": [
    "import numpy as np\n",
    "from scipy.stats import t\n",
    "\n",
    "N_con = 20\n",
    "df_con = N_con - 1 # degrees of freedom of Control\n",
    "N_exp = 20\n",
    "df_exp = N_exp - 1 #degrees of freedom of Experimental\n",
    "\n",
    "# significance level\n",
    "alpha=0.05"
   ]
  },
  {
   "cell_type": "code",
   "execution_count": 2,
   "id": "045ca62b",
   "metadata": {},
   "outputs": [],
   "source": [
    "# data of control group with t-distribution\n",
    "X_con = np.random.standard_t(df_con, N_con)\n",
    "# data of experimental group with t-distribution\n",
    "X_exp = np.random.standard_t(df_exp, N_exp)"
   ]
  },
  {
   "cell_type": "code",
   "execution_count": 6,
   "id": "9531b176",
   "metadata": {},
   "outputs": [],
   "source": [
    "#mean of control\n",
    "mu_con = np.mean(X_con)\n",
    "\n",
    "#mean of experimental\n",
    "mu_exp = np.mean(X_exp)"
   ]
  },
  {
   "cell_type": "code",
   "execution_count": 9,
   "id": "f21bdc8e",
   "metadata": {},
   "outputs": [],
   "source": [
    "#variance of control\n",
    "sigma_sqr_con = np.var(X_con)\n",
    "#variance of experimental\n",
    "sigma_sqr_exp = np.var(X_exp)"
   ]
  },
  {
   "cell_type": "code",
   "execution_count": 12,
   "id": "fae26fc5",
   "metadata": {},
   "outputs": [],
   "source": [
    "#pooled variance\n",
    "pooled_variance_t_test = ((N_con-1)*sigma_sqr_con + (N_exp-1)*sigma_sqr_exp)/(N_con + N_exp - 2)*(1/N_con + 1/N_exp)"
   ]
  },
  {
   "cell_type": "code",
   "execution_count": 13,
   "id": "cf76bb26",
   "metadata": {},
   "outputs": [],
   "source": [
    "#standard error\n",
    "SE = np.sqrt(pooled_variance_t_test)"
   ]
  },
  {
   "cell_type": "code",
   "execution_count": 14,
   "id": "c896429e",
   "metadata": {},
   "outputs": [],
   "source": [
    "#Test statistics\n",
    "T = (mu_con - mu_exp)/SE"
   ]
  },
  {
   "cell_type": "code",
   "execution_count": 15,
   "id": "54ff4892",
   "metadata": {},
   "outputs": [],
   "source": [
    "#cretical value for two sided 2 sample t-test\n",
    "t_crit = t.ppf(1-alpha/2, N_con + N_exp -2)\n",
    "\n",
    "# p-value of the tow sided T-test using t-distribution and its symmetirc propoerty\n",
    "p_value = t.sf(T, N_con + N_exp - 2)*2"
   ]
  },
  {
   "cell_type": "code",
   "execution_count": 18,
   "id": "23c124ea",
   "metadata": {},
   "outputs": [],
   "source": [
    "# Margin of errer\n",
    "margin_error = t_crit * SE"
   ]
  },
  {
   "cell_type": "code",
   "execution_count": 20,
   "id": "f2972343",
   "metadata": {},
   "outputs": [],
   "source": [
    "#Confidence Interval\n",
    "CI = [(mu_con-mu_exp) - margin_error, (mu_con-mu_exp)+margin_error]"
   ]
  },
  {
   "cell_type": "code",
   "execution_count": 21,
   "id": "ce6b3b57",
   "metadata": {},
   "outputs": [
    {
     "data": {
      "text/plain": [
       "[-0.9553531801049879, 0.4698109599974783]"
      ]
     },
     "execution_count": 21,
     "metadata": {},
     "output_type": "execute_result"
    }
   ],
   "source": [
    "CI"
   ]
  },
  {
   "cell_type": "code",
   "execution_count": 22,
   "id": "6639bb1a",
   "metadata": {},
   "outputs": [
    {
     "name": "stdout",
     "output_type": "stream",
     "text": [
      "T-score:  -0.6896951792302523\n",
      "T-critical:  2.024394164575136\n",
      "P_value:  1.5054235077368894\n",
      "Confidence Interval of 2 sample Z-test:  [-0.96  0.47]\n"
     ]
    }
   ],
   "source": [
    "print(\"T-score: \", T)\n",
    "print(\"T-critical: \", t_crit)\n",
    "print(\"P_value: \", p_value)\n",
    "print(\"Confidence Interval of 2 sample Z-test: \", np.round(CI,2))"
   ]
  }
 ],
 "metadata": {
  "kernelspec": {
   "display_name": "Python 3 (ipykernel)",
   "language": "python",
   "name": "python3"
  },
  "language_info": {
   "codemirror_mode": {
    "name": "ipython",
    "version": 3
   },
   "file_extension": ".py",
   "mimetype": "text/x-python",
   "name": "python",
   "nbconvert_exporter": "python",
   "pygments_lexer": "ipython3",
   "version": "3.10.0"
  }
 },
 "nbformat": 4,
 "nbformat_minor": 5
}
